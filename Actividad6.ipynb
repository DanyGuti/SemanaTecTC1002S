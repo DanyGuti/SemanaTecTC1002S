{
 "cells": [
  {
   "attachments": {},
   "cell_type": "markdown",
   "metadata": {},
   "source": [
    "---\n",
    "# Actividad Estadística Básica\n",
    "---\n",
    "- **Nombre: Daniel Gutiérrez Gómez**\n",
    "- **Matrícula: A01068056**"
   ]
  },
  {
   "cell_type": "code",
   "execution_count": 20,
   "metadata": {},
   "outputs": [],
   "source": [
    "import pandas as pd\n",
    "import numpy as np\n",
    "from scipy import stats\n",
    "from scipy.stats import pearsonr"
   ]
  },
  {
   "attachments": {},
   "cell_type": "markdown",
   "metadata": {},
   "source": [
    "**Cargar liberías necesarias y primeros 6 renglones**"
   ]
  },
  {
   "cell_type": "code",
   "execution_count": 2,
   "metadata": {},
   "outputs": [],
   "source": [
    "insurance = pd.read_csv('./datasets/insurance.csv')\n",
    "display(insurance.iloc[:6])"
   ]
  },
  {
   "attachments": {},
   "cell_type": "markdown",
   "metadata": {},
   "source": [
    "**Crea una tabla resumen con los estadísticas generales de las variables numéricas**"
   ]
  },
  {
   "cell_type": "code",
   "execution_count": null,
   "metadata": {},
   "outputs": [],
   "source": [
    "resumen = pd.DataFrame().assign(age = insurance[\"age\"], bmi = insurance[\"bmi\"], charges = insurance[\"charges\"])\n",
    "display(resumen)"
   ]
  },
  {
   "attachments": {},
   "cell_type": "markdown",
   "metadata": {},
   "source": [
    "**¿Cómo se correlacionan las varaibles numéricas entre sí?**\n",
    "El coeficiente de correlación da una estimación de la relación entre dos variables. El coeficiente de correlación de Pearson se calcula multiplicando las desviaciones de la media de la variable 1 por las de la variable 2, dividiendo por el producto de las desviaciones estándar"
   ]
  },
  {
   "cell_type": "code",
   "execution_count": null,
   "metadata": {},
   "outputs": [],
   "source": [
    "print('Correlación Pearson entre Edad e IMC: ', resumen.age.corr(resumen.bmi, method='pearson'))\n",
    "print('Correlación spearman entre Edad e IMC: ', resumen.age.corr(resumen.bmi, method='spearman'))\n",
    "print('Correlación kendall entre Edad e IMC: ', resumen.age.corr(resumen.bmi, method='kendall'))"
   ]
  },
  {
   "cell_type": "code",
   "execution_count": null,
   "metadata": {},
   "outputs": [],
   "source": [
    "print('Correlación Pearson entre Edad y costo del seguro: ', resumen.age.corr(resumen.charges, method='pearson'))\n",
    "print('Correlación spearman entre Edad y costo del seguro: ', resumen.age.corr(resumen.charges, method='spearman'))\n",
    "print('Correlación kendall entre Edad y costo del seguro: ', resumen.age.corr(resumen.charges, method='kendall'))"
   ]
  },
  {
   "cell_type": "code",
   "execution_count": null,
   "metadata": {},
   "outputs": [],
   "source": [
    "print('Correlación Pearson entre IMC y costo del seguro: ', resumen.bmi.corr(resumen.charges, method='pearson'))\n",
    "print('Correlación spearman entre IMC y costo del seguro: ', resumen.bmi.corr(resumen.charges, method='spearman'))\n",
    "print('Correlación kendall entre IMC y costo del seguro: ', resumen.bmi.corr(resumen.charges, method='kendall'))"
   ]
  },
  {
   "attachments": {},
   "cell_type": "markdown",
   "metadata": {},
   "source": [
    "**Determina si existe o no una correlación entre el índice de masa corporal**"
   ]
  },
  {
   "cell_type": "code",
   "execution_count": null,
   "metadata": {},
   "outputs": [],
   "source": [
    "r, p = stats.pearsonr(resumen.bmi, resumen.charges)\n",
    "print(f\"Correlación Pearson: r={r}, p-value={p}\")"
   ]
  },
  {
   "attachments": {},
   "cell_type": "markdown",
   "metadata": {},
   "source": [
    "Como podemos ver no existe una relación **valor de r=0.198** entre los valores del índice de la masa corporal y del costo del seguro, puesto que el valor de r es cercano a 0, ni -1 ni 1. Aunque correlación no significa causalidad, el hecho de que dos variables no estén correlacionadas no significa que no se afecten entre sí."
   ]
  },
  {
   "attachments": {},
   "cell_type": "markdown",
   "metadata": {},
   "source": [
    "**¿Cuántas personas aseguradas son hombre y cuántas son mujeres?**"
   ]
  },
  {
   "cell_type": "code",
   "execution_count": null,
   "metadata": {},
   "outputs": [],
   "source": [
    "print(\"Número de hombres asegurados: \", (insurance[\"sex\"] == \"male\").sum())\n",
    "print(\"Número de mujeres aseguradas: \", (insurance[\"sex\"] == \"female\").sum())"
   ]
  },
  {
   "attachments": {},
   "cell_type": "markdown",
   "metadata": {},
   "source": [
    "**¿Cuántos hombres y mujeres asegurados viven en cada región**"
   ]
  },
  {
   "cell_type": "code",
   "execution_count": null,
   "metadata": {},
   "outputs": [],
   "source": [
    "display(insurance.groupby([insurance[\"region\"], insurance[\"sex\"]]).agg(By_sex=(\"sex\", \"count\")))"
   ]
  },
  {
   "attachments": {},
   "cell_type": "markdown",
   "metadata": {},
   "source": [
    "**En promedio, ¿quién paga más de cuota de seguro? ¿Los fumadores o los no fumadores? Muéstralo con los datos.**"
   ]
  },
  {
   "cell_type": "code",
   "execution_count": null,
   "metadata": {},
   "outputs": [],
   "source": [
    "smoker = insurance.groupby((insurance[\"smoker\"])).agg(MedianSmoker_Charges=(\"charges\", \"median\"))\n",
    "display(smoker)"
   ]
  },
  {
   "attachments": {},
   "cell_type": "markdown",
   "metadata": {},
   "source": [
    "Por lo tanto, las personas fumadoras gastan más dinero en seguro que los no fumadores por mucha diferencia"
   ]
  },
  {
   "attachments": {},
   "cell_type": "markdown",
   "metadata": {},
   "source": [
    "\n",
    "**¿Cuáles son las cuotas mínimas y máximas que las personan pagan dependiendo del género y del número de hijos?**"
   ]
  },
  {
   "cell_type": "code",
   "execution_count": null,
   "metadata": {},
   "outputs": [],
   "source": [
    "insurance.groupby(([insurance[\"sex\"], insurance[\"children\"]])).agg(MinCharges=(\"charges\", \"min\"), MaxCharges=(\"charges\", \"max\"))"
   ]
  },
  {
   "attachments": {},
   "cell_type": "markdown",
   "metadata": {},
   "source": [
    "**¿Cuál es el índice de masa corporal promedio para hombre y mujeres dependiendo de la región en la que viven y si son fumadores? ¿Impacta eso en la tarifa del seguro?**"
   ]
  },
  {
   "cell_type": "code",
   "execution_count": 91,
   "metadata": {},
   "outputs": [
    {
     "data": {
      "text/html": [
       "<div>\n",
       "<style scoped>\n",
       "    .dataframe tbody tr th:only-of-type {\n",
       "        vertical-align: middle;\n",
       "    }\n",
       "\n",
       "    .dataframe tbody tr th {\n",
       "        vertical-align: top;\n",
       "    }\n",
       "\n",
       "    .dataframe thead th {\n",
       "        text-align: right;\n",
       "    }\n",
       "</style>\n",
       "<table border=\"1\" class=\"dataframe\">\n",
       "  <thead>\n",
       "    <tr style=\"text-align: center;\">\n",
       "      <th></th>\n",
       "      <th></th>\n",
       "      <th></th>\n",
       "      <th>Avg_BMI</th>\n",
       "      <th>Min_Charges</th>\n",
       "      <th>Max_Charges</th>\n",
       "      <th>Mean_Charges</th>\n",
       "    </tr>\n",
       "    <tr>\n",
       "      <th>sex</th>\n",
       "      <th>region</th>\n",
       "      <th>smoker</th>\n",
       "      <th></th>\n",
       "      <th></th>\n",
       "      <th></th>\n",
       "      <th></th>\n",
       "    </tr>\n",
       "  </thead>\n",
       "  <tbody>\n",
       "    <tr>\n",
       "      <th rowspan=\"8\" valign=\"top\">female</th>\n",
       "      <th rowspan=\"2\" valign=\"top\">northeast</th>\n",
       "      <th>no</th>\n",
       "      <td>29.777462</td>\n",
       "      <td>2196.47320</td>\n",
       "      <td>31620.00106</td>\n",
       "      <td>9640.426984</td>\n",
       "    </tr>\n",
       "    <tr>\n",
       "      <th>yes</th>\n",
       "      <td>27.261724</td>\n",
       "      <td>14283.45940</td>\n",
       "      <td>58571.07448</td>\n",
       "      <td>28032.046398</td>\n",
       "    </tr>\n",
       "    <tr>\n",
       "      <th rowspan=\"2\" valign=\"top\">northwest</th>\n",
       "      <th>no</th>\n",
       "      <td>29.488704</td>\n",
       "      <td>2117.33885</td>\n",
       "      <td>33471.97189</td>\n",
       "      <td>8786.998679</td>\n",
       "    </tr>\n",
       "    <tr>\n",
       "      <th>yes</th>\n",
       "      <td>28.296897</td>\n",
       "      <td>14711.74380</td>\n",
       "      <td>55135.40209</td>\n",
       "      <td>29670.824946</td>\n",
       "    </tr>\n",
       "    <tr>\n",
       "      <th rowspan=\"2\" valign=\"top\">southeast</th>\n",
       "      <th>no</th>\n",
       "      <td>32.780000</td>\n",
       "      <td>1607.51010</td>\n",
       "      <td>36580.28216</td>\n",
       "      <td>8440.205552</td>\n",
       "    </tr>\n",
       "    <tr>\n",
       "      <th>yes</th>\n",
       "      <td>32.251389</td>\n",
       "      <td>16577.77950</td>\n",
       "      <td>63770.42801</td>\n",
       "      <td>33034.820716</td>\n",
       "    </tr>\n",
       "    <tr>\n",
       "      <th rowspan=\"2\" valign=\"top\">southwest</th>\n",
       "      <th>no</th>\n",
       "      <td>30.050355</td>\n",
       "      <td>1727.78500</td>\n",
       "      <td>36910.60803</td>\n",
       "      <td>8234.091260</td>\n",
       "    </tr>\n",
       "    <tr>\n",
       "      <th>yes</th>\n",
       "      <td>30.128571</td>\n",
       "      <td>13844.50600</td>\n",
       "      <td>48824.45000</td>\n",
       "      <td>31687.988430</td>\n",
       "    </tr>\n",
       "    <tr>\n",
       "      <th rowspan=\"8\" valign=\"top\">male</th>\n",
       "      <th rowspan=\"2\" valign=\"top\">northeast</th>\n",
       "      <th>no</th>\n",
       "      <td>28.861760</td>\n",
       "      <td>1694.79640</td>\n",
       "      <td>32108.66282</td>\n",
       "      <td>8664.042222</td>\n",
       "    </tr>\n",
       "    <tr>\n",
       "      <th>yes</th>\n",
       "      <td>29.560000</td>\n",
       "      <td>12829.45510</td>\n",
       "      <td>48549.17835</td>\n",
       "      <td>30926.252583</td>\n",
       "    </tr>\n",
       "    <tr>\n",
       "      <th rowspan=\"2\" valign=\"top\">northwest</th>\n",
       "      <th>no</th>\n",
       "      <td>28.930379</td>\n",
       "      <td>1621.34020</td>\n",
       "      <td>30284.64294</td>\n",
       "      <td>8320.689321</td>\n",
       "    </tr>\n",
       "    <tr>\n",
       "      <th>yes</th>\n",
       "      <td>29.983966</td>\n",
       "      <td>15817.98570</td>\n",
       "      <td>60021.39897</td>\n",
       "      <td>30713.181419</td>\n",
       "    </tr>\n",
       "    <tr>\n",
       "      <th rowspan=\"2\" valign=\"top\">southeast</th>\n",
       "      <th>no</th>\n",
       "      <td>34.129552</td>\n",
       "      <td>1121.87390</td>\n",
       "      <td>27724.28875</td>\n",
       "      <td>7609.003587</td>\n",
       "    </tr>\n",
       "    <tr>\n",
       "      <th>yes</th>\n",
       "      <td>33.650000</td>\n",
       "      <td>17043.34140</td>\n",
       "      <td>62592.87309</td>\n",
       "      <td>36029.839367</td>\n",
       "    </tr>\n",
       "    <tr>\n",
       "      <th rowspan=\"2\" valign=\"top\">southwest</th>\n",
       "      <th>no</th>\n",
       "      <td>31.019841</td>\n",
       "      <td>1241.56500</td>\n",
       "      <td>27941.28758</td>\n",
       "      <td>7778.905534</td>\n",
       "    </tr>\n",
       "    <tr>\n",
       "      <th>yes</th>\n",
       "      <td>31.502703</td>\n",
       "      <td>15820.69900</td>\n",
       "      <td>52590.82939</td>\n",
       "      <td>32598.862854</td>\n",
       "    </tr>\n",
       "  </tbody>\n",
       "</table>\n",
       "</div>"
      ],
      "text/plain": [
       "                          Avg_BMI   Min_Charges  Max_Charges  Mean_Charges\n",
       "sex    region    smoker                                                   \n",
       "female northeast no      29.777462   2196.47320  31620.00106   9640.426984\n",
       "                 yes     27.261724  14283.45940  58571.07448  28032.046398\n",
       "       northwest no      29.488704   2117.33885  33471.97189   8786.998679\n",
       "                 yes     28.296897  14711.74380  55135.40209  29670.824946\n",
       "       southeast no      32.780000   1607.51010  36580.28216   8440.205552\n",
       "                 yes     32.251389  16577.77950  63770.42801  33034.820716\n",
       "       southwest no      30.050355   1727.78500  36910.60803   8234.091260\n",
       "                 yes     30.128571  13844.50600  48824.45000  31687.988430\n",
       "male   northeast no      28.861760   1694.79640  32108.66282   8664.042222\n",
       "                 yes     29.560000  12829.45510  48549.17835  30926.252583\n",
       "       northwest no      28.930379   1621.34020  30284.64294   8320.689321\n",
       "                 yes     29.983966  15817.98570  60021.39897  30713.181419\n",
       "       southeast no      34.129552   1121.87390  27724.28875   7609.003587\n",
       "                 yes     33.650000  17043.34140  62592.87309  36029.839367\n",
       "       southwest no      31.019841   1241.56500  27941.28758   7778.905534\n",
       "                 yes     31.502703  15820.69900  52590.82939  32598.862854"
      ]
     },
     "execution_count": 91,
     "metadata": {},
     "output_type": "execute_result"
    }
   ],
   "source": [
    "insurance.groupby([insurance[\"sex\"], insurance[\"region\"], insurance[\"smoker\"]]).agg(\n",
    "    Avg_BMI=(\"bmi\",\"mean\"), Min_Charges=(\"charges\",\"min\"),\n",
    "    Max_Charges=(\"charges\",\"max\"), Mean_Charges=(\"charges\", \"mean\"))\n"
   ]
  },
  {
   "attachments": {},
   "cell_type": "markdown",
   "metadata": {},
   "source": [
    "**Como podemos ver en la tabla agregada anterior, importa mucho la tarifa del seguro si eres fumador...**\n",
    "**Independientemente de si eres hombre o mujer y también independientemente del genero y de la región en la que vivas**\n",
    "**el fumar ya te incrementa demasiado la tarifa para pagar el seguro (ver columnas de Mean_charges, Max_charges y Min_charges)**"
   ]
  }
 ],
 "metadata": {
  "kernelspec": {
   "display_name": "Python 3",
   "language": "python",
   "name": "python3"
  },
  "language_info": {
   "codemirror_mode": {
    "name": "ipython",
    "version": 3
   },
   "file_extension": ".py",
   "mimetype": "text/x-python",
   "name": "python",
   "nbconvert_exporter": "python",
   "pygments_lexer": "ipython3",
   "version": "3.11.2"
  },
  "orig_nbformat": 4
 },
 "nbformat": 4,
 "nbformat_minor": 2
}
