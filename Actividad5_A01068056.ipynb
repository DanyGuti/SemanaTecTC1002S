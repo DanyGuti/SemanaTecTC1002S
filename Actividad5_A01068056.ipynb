{
 "cells": [
  {
   "attachments": {},
   "cell_type": "markdown",
   "metadata": {},
   "source": [
    "---\n",
    "# Actividad Librería de Pandas\n",
    "---\n",
    "- **Nombre: Daniel Gutiérrez Gómez**\n",
    "- **Matrícula: A01068056**"
   ]
  },
  {
   "attachments": {},
   "cell_type": "markdown",
   "metadata": {},
   "source": [
    "- **2.- Importar librerías para DataFrames**"
   ]
  },
  {
   "cell_type": "code",
   "execution_count": 3,
   "metadata": {},
   "outputs": [],
   "source": [
    "import pandas as pd\n",
    "import numpy as np"
   ]
  },
  {
   "attachments": {},
   "cell_type": "markdown",
   "metadata": {},
   "source": [
    "- **3.- Desplegar primeros 5 renglones de DataFrame**"
   ]
  },
  {
   "cell_type": "code",
   "execution_count": null,
   "metadata": {},
   "outputs": [],
   "source": [
    "netflix_data = pd.read_csv('./netflix_titles.csv')\n",
    "display(netflix_data.iloc[:5]) "
   ]
  },
  {
   "attachments": {},
   "cell_type": "markdown",
   "metadata": {},
   "source": [
    "- **4.- Implementa una función que despliegue el primer renglon de un DataFrame.**"
   ]
  },
  {
   "cell_type": "code",
   "execution_count": null,
   "metadata": {},
   "outputs": [],
   "source": [
    "def the_first():\n",
    "    return netflix_data.iloc[:1]\n",
    "\n",
    "the_first()"
   ]
  },
  {
   "attachments": {},
   "cell_type": "markdown",
   "metadata": {},
   "source": [
    "- **5.- Implementa una función que despliega las películas con un release_year determinado.**"
   ]
  },
  {
   "cell_type": "code",
   "execution_count": null,
   "metadata": {},
   "outputs": [],
   "source": [
    "def released_year(year):\n",
    "    return netflix_data.loc[netflix_data[\"release_year\"] == year]\n",
    "\n",
    "year_query = 2020\n",
    "released_year(year_query)"
   ]
  },
  {
   "attachments": {},
   "cell_type": "markdown",
   "metadata": {},
   "source": [
    "- **6.- Implementa una función que despliegue las películas que son de un país determinado.**"
   ]
  },
  {
   "cell_type": "code",
   "execution_count": null,
   "metadata": {},
   "outputs": [],
   "source": [
    "\n",
    "def origin_country(country):\n",
    "  return netflix_data.loc[netflix_data[\"country\"] == country]\n",
    "\n",
    "country_query = 'Mexico'\n",
    "origin_country(country_query)"
   ]
  },
  {
   "attachments": {},
   "cell_type": "markdown",
   "metadata": {},
   "source": [
    "- **7.- Crea un nuevo DataFrame que sólo contenga las columnas type, title, country y release_year..**"
   ]
  },
  {
   "cell_type": "code",
   "execution_count": null,
   "metadata": {},
   "outputs": [],
   "source": [
    "specific_netflix = pd.DataFrame().assign(type = netflix_data[\"type\"], title = netflix_data[\"title\"], country = netflix_data[\"country\"], release_year = netflix_data[\"release_year\"])\n",
    "display(specific_netflix)"
   ]
  },
  {
   "attachments": {},
   "cell_type": "markdown",
   "metadata": {},
   "source": [
    "- **8.- Despliega, cuantos tipos de producciones (type) se hicieron por país determinado (country).**"
   ]
  },
  {
   "cell_type": "code",
   "execution_count": null,
   "metadata": {},
   "outputs": [],
   "source": [
    "types = specific_netflix.groupby([specific_netflix.type, specific_netflix.country]).aggregate({\"type\": \"count\"})\n",
    "\n",
    "pd.set_option('display.max_rows', None)\n",
    "pd.set_option('display.max_columns', None)\n",
    "pd.set_option('display.width', 400)\n",
    "pd.set_option('display.colheader_justify', 'center')\n",
    "display(types)"
   ]
  },
  {
   "attachments": {},
   "cell_type": "markdown",
   "metadata": {},
   "source": [
    "- **9.-  Implementa la función que genera el cuadrado de un número..**"
   ]
  },
  {
   "cell_type": "code",
   "execution_count": null,
   "metadata": {},
   "outputs": [],
   "source": [
    "def square(x):\n",
    "  return x**2"
   ]
  },
  {
   "attachments": {},
   "cell_type": "markdown",
   "metadata": {},
   "source": [
    "- **10.- Usando el método apply, genera el cuadrado de todos los valores del siguiente DataFrame.**"
   ]
  },
  {
   "cell_type": "code",
   "execution_count": null,
   "metadata": {},
   "outputs": [],
   "source": [
    "df2 = pd.DataFrame({'A': [1, 2, 3, 5, 6], 'B': [10, 20, 30, 40, 50]})\n",
    "df1 = df2.apply(lambda x: x * x)\n",
    "print(df1)"
   ]
  }
 ],
 "metadata": {
  "kernelspec": {
   "display_name": "Python 3",
   "language": "python",
   "name": "python3"
  },
  "language_info": {
   "codemirror_mode": {
    "name": "ipython",
    "version": 3
   },
   "file_extension": ".py",
   "mimetype": "text/x-python",
   "name": "python",
   "nbconvert_exporter": "python",
   "pygments_lexer": "ipython3",
   "version": "3.11.2"
  },
  "orig_nbformat": 4
 },
 "nbformat": 4,
 "nbformat_minor": 2
}
